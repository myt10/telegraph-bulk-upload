{
 "cells": [
  {
   "cell_type": "code",
   "execution_count": 1,
   "id": "3ad84068",
   "metadata": {},
   "outputs": [],
   "source": [
    "import utils\n",
    "import os\n",
    "from telegraph import Telegraph\n",
    "import telegraph\n",
    "import ujson as json"
   ]
  },
  {
   "cell_type": "markdown",
   "id": "8df548f3",
   "metadata": {},
   "source": [
    "## 初始化作者信息"
   ]
  },
  {
   "cell_type": "code",
   "execution_count": 2,
   "id": "1a6cd378",
   "metadata": {},
   "outputs": [
    {
     "name": "stdout",
     "output_type": "stream",
     "text": [
      "{'auth_url': 'https://edit.telegra.ph/auth/qzmS7ChVtYcLNCLr7i1lXRcLcI0lfjAESWu0wLTZH3'}\n",
      "<class 'telegraph.api.Telegraph'>\n"
     ]
    }
   ],
   "source": [
    "tlg_obj = utils.__init__account(short_name= 'myt10', author_name= 'myt10', author_url= 'https://github.com/myt10')"
   ]
  },
  {
   "cell_type": "code",
   "execution_count": 3,
   "id": "813498eb",
   "metadata": {},
   "outputs": [],
   "source": [
    "def rename_illegal(path):\n",
    "    if not os.path.exists(path):\n",
    "        return"
   ]
  },
  {
   "cell_type": "code",
   "execution_count": 6,
   "id": "aad656e3",
   "metadata": {},
   "outputs": [],
   "source": [
    "link_list = []\n",
    "def upload_all(path,tlg_obj):\n",
    "    try:\n",
    "        if not os.path.exists(path):\n",
    "            return\n",
    "        path_lst = os.listdir(path)\n",
    "        res_lst = [] #得到所有非文件夹图片\n",
    "        for pth in path_lst:\n",
    "            if os.path.isdir(path +'//'+pth):\n",
    "                upload_all(path + '//'+pth,tlg_obj)\n",
    "            else:\n",
    "                if pth.split(\".\")[-1] in [\"jpeg\",\"png\",\"jpg\",\"bmp\"]:\n",
    "                    res_lst.append(pth)\n",
    "        for i in range(len(res_lst)):\n",
    "            res_lst[i] = path + \"//\"+res_lst[i]\n",
    "        if res_lst:\n",
    "            res = tlg_obj.upload_file(res_lst)\n",
    "            res = [i[\"src\"] for i in res]\n",
    "            tmp = tlg_obj.create_page(title = path.split(\"/\")[-1],html_content= utils.get_content(res),author_name = 'myt10',\n",
    "           author_url= 'https://github.com/myt10',return_content= False)[\"url\"]\n",
    "            print(tmp)\n",
    "            link_list.append(tmp)\n",
    "    except:\n",
    "        print(path)"
   ]
  },
  {
   "cell_type": "code",
   "execution_count": null,
   "id": "1f39c2cc",
   "metadata": {
    "scrolled": false
   },
   "outputs": [
    {
     "name": "stdout",
     "output_type": "stream",
     "text": [
      "D://本子//40010//(C82) [40010壱号 (40010試作型)] Wonderland／Ununderland (咲 -Saki-) [空気系★汉化]\n",
      "D://本子//40010//(C83) [40010壱号 (40010試作型)] Vanished Panties (ToLOVEる-とらぶる-) [脸肿汉化组]\n",
      "https://telegra.ph/C84-40010壱号-40010試作型-The-GreatRito-ToLOVEる-とらぶる--空気系漢化-04-09\n",
      "https://telegra.ph/C85-40010壱号-40010試作型-Eat-the-Orange-in-the-Bath-ToLOVEる-とらぶる--空気系漢化-04-09\n",
      "https://telegra.ph/C85-40010壱号-40010試作型-Eat-the-Orange-in-the-Bath-ToLOVEる-とらぶる--脸肿汉化组-04-09\n"
     ]
    }
   ],
   "source": [
    "upload_all(\"D://本子//40010\",tlg_obj)"
   ]
  },
  {
   "cell_type": "code",
   "execution_count": 40,
   "id": "72d385ed",
   "metadata": {},
   "outputs": [
    {
     "data": {
      "text/plain": [
       "['fate001.jpg',\n",
       " 'fate001_.jpg',\n",
       " 'fate002.jpg',\n",
       " 'fate003.jpg',\n",
       " 'fate004.jpg',\n",
       " 'fate005.jpg',\n",
       " 'fate006.jpg',\n",
       " 'fate007.jpg',\n",
       " 'fate008.jpg',\n",
       " 'fate009.jpg',\n",
       " 'fate010.jpg',\n",
       " 'fate011.jpg',\n",
       " 'fate012.jpg',\n",
       " 'fate013.jpg',\n",
       " 'fate014.jpg',\n",
       " 'fate015.jpg',\n",
       " 'fate016.jpg',\n",
       " 'fate017.jpg',\n",
       " 'fate018.jpg',\n",
       " 'fate019.jpg',\n",
       " 'fate020.jpg',\n",
       " 'fate021.jpg',\n",
       " 'fate022.jpg',\n",
       " 'fate023.jpg',\n",
       " 'fate024.jpg',\n",
       " 'fate025.jpg',\n",
       " 'fate026.jpg',\n",
       " 'fate027.jpg',\n",
       " 'fate028.jpg',\n",
       " 'fate029.jpg',\n",
       " 'fate030.jpg',\n",
       " 'fate031.jpg',\n",
       " 'fate032.jpg',\n",
       " 'fate033.jpg',\n",
       " 'fate034.jpg',\n",
       " 'fate039.jpg',\n",
       " 'fate099.jpg']"
      ]
     },
     "execution_count": 40,
     "metadata": {},
     "output_type": "execute_result"
    }
   ],
   "source": [
    "os.listdir(\"D://本子//40010//(C76) [40010壱号 (40010試作型)] Delusiom Of F・O・M - F・O・Mの妄想 (魔法少女リリカルなのは) [萌の空漢化社]\")"
   ]
  },
  {
   "cell_type": "code",
   "execution_count": null,
   "id": "a9d42177",
   "metadata": {},
   "outputs": [],
   "source": []
  }
 ],
 "metadata": {
  "kernelspec": {
   "display_name": "Python 3 (ipykernel)",
   "language": "python",
   "name": "python3"
  },
  "language_info": {
   "codemirror_mode": {
    "name": "ipython",
    "version": 3
   },
   "file_extension": ".py",
   "mimetype": "text/x-python",
   "name": "python",
   "nbconvert_exporter": "python",
   "pygments_lexer": "ipython3",
   "version": "3.9.13"
  }
 },
 "nbformat": 4,
 "nbformat_minor": 5
}
