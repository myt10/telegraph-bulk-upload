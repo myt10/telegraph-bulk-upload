{
 "cells": [
  {
   "cell_type": "code",
   "execution_count": 31,
   "id": "61cb341c",
   "metadata": {},
   "outputs": [
    {
     "name": "stderr",
     "output_type": "stream",
     "text": [
      "C:\\Users\\myt10\\anaconda3\\lib\\site-packages\\numpy\\_distributor_init.py:30: UserWarning: loaded more than 1 DLL from .libs:\n",
      "C:\\Users\\myt10\\anaconda3\\lib\\site-packages\\numpy\\.libs\\libopenblas.FB5AE2TYXYH2IJRDKGDGQ3XBKLKTF43H.gfortran-win_amd64.dll\n",
      "C:\\Users\\myt10\\anaconda3\\lib\\site-packages\\numpy\\.libs\\libopenblas.JPIJNSWNNAN3CE6LLI5FWSPHUT2VXMTH.gfortran-win_amd64.dll\n",
      "  warnings.warn(\"loaded more than 1 DLL from .libs:\"\n"
     ]
    }
   ],
   "source": [
    "import utils\n",
    "import os\n",
    "from telegraph import Telegraph\n",
    "import telegraph\n",
    "import ujson as json\n",
    "from PIL import Image\n",
    "from PIL import ImageFile\n",
    "from shutil import copyfile\n",
    "import pandas as pd"
   ]
  },
  {
   "cell_type": "markdown",
   "id": "cbb8b627",
   "metadata": {},
   "source": [
    "## 初始化作者信息"
   ]
  },
  {
   "cell_type": "code",
   "execution_count": 2,
   "id": "26e7085c",
   "metadata": {
    "scrolled": true
   },
   "outputs": [
    {
     "name": "stdout",
     "output_type": "stream",
     "text": [
      "{'auth_url': 'https://edit.telegra.ph/auth/XgLifrKV4FekWpzat9jhjCjWJO6IlmHiAszPShIUUX'}\n",
      "<class 'telegraph.api.Telegraph'>\n"
     ]
    }
   ],
   "source": [
    "tlg_obj = utils.__init__account(short_name= 'myt10', author_name= 'myt10', author_url= 'https://github.com/myt10')"
   ]
  },
  {
   "cell_type": "markdown",
   "id": "89878b41",
   "metadata": {},
   "source": [
    "## 预处理图片，telegraph仅能够上传512kb以下文件"
   ]
  },
  {
   "cell_type": "code",
   "execution_count": 3,
   "id": "ad8f9321",
   "metadata": {},
   "outputs": [],
   "source": [
    "input_path = \"D://本子//40010\"\n",
    "output_path = \"D://本子//40010_pre\""
   ]
  },
  {
   "cell_type": "code",
   "execution_count": 8,
   "id": "22b29253",
   "metadata": {},
   "outputs": [],
   "source": [
    "utils.preprocess(input_path,output_path)"
   ]
  },
  {
   "cell_type": "code",
   "execution_count": 28,
   "id": "4ee8ee5e",
   "metadata": {},
   "outputs": [],
   "source": [
    "link_list = []\n",
    "def upload_all(path,tlg_obj):\n",
    "    if not os.path.exists(path):\n",
    "        return\n",
    "    path_lst = os.listdir(path)\n",
    "    res_lst = [] #得到所有非文件夹图片\n",
    "    for pth in path_lst:\n",
    "        if os.path.isdir(path +'//'+pth):\n",
    "            upload_all(path + '//'+pth,tlg_obj)\n",
    "        else:\n",
    "            if pth.split(\".\")[-1] in [\"jpeg\",\"png\",\"jpg\",\"bmp\",\"webp\"]:\n",
    "                res_lst.append(pth)\n",
    "    for i in range(len(res_lst)):\n",
    "        res_lst[i] = path + \"//\"+res_lst[i]\n",
    "    if res_lst:\n",
    "        if len(res_lst)>40:\n",
    "            res = tlg_obj.upload_file(res_lst[:40])\n",
    "            for i in range(1,len(res_lst)//40 +1):\n",
    "                res += tlg_obj.upload_file(res_lst[i*40:min((i+1)*40,len(res_lst))])\n",
    "        else:\n",
    "            res = tlg_obj.upload_file(res_lst)\n",
    "        res = [i[\"src\"] for i in res]\n",
    "        cnt = utils.get_content(res)\n",
    "        tmp = tlg_obj.create_page(title = path.split(\"/\")[-1],html_content= cnt,return_content= False)[\"url\"]\n",
    "        link_list.append([path.split(\"/\")[-1],tmp])\n",
    "        print(path.split(\"/\")[-1],len(res),len(res_lst),tmp)"
   ]
  },
  {
   "cell_type": "code",
   "execution_count": 29,
   "id": "9f161a0b",
   "metadata": {
    "scrolled": true
   },
   "outputs": [
    {
     "name": "stdout",
     "output_type": "stream",
     "text": [
      "(C73) [40010壱号 (40010試作型)] フェイトちゃんはそれでもしあわせ (魔法少女リリカルなのは) [萌の空漢化社] 29 29 https://telegra.ph/C73-40010壱号-40010試作型-フェイトちゃんはそれでもしあわせ-魔法少女リリカルなのは-萌の空漢化社-04-09-11\n",
      "(C74) [40010壱号 (40010試作型)] Fate-chan ha Yappari Shiawase (魔法少女リリカルなのは) [萌の空漢化社] 26 26 https://telegra.ph/C74-40010壱号-40010試作型-Fate-chan-ha-Yappari-Shiawase-魔法少女リリカルなのは-萌の空漢化社-04-09-8\n",
      "(C76) [40010壱号 (40010試作型)] Delusiom Of F・O・M - F・O・Mの妄想 (魔法少女リリカルなのは) [萌の空漢化社] 37 37 https://telegra.ph/C76-40010壱号-40010試作型-Delusiom-Of-FOM---FOMの妄想-魔法少女リリカルなのは-萌の空漢化社-04-09-3\n",
      "(C78) [40010壱号 (40010試作型)] ANFONN-H (化物語) [午後茶会] 30 30 https://telegra.ph/C78-40010壱号-40010試作型-ANFONN-H-化物語-午後茶会-04-09-3\n",
      "(C79) [40010壱号 (40010試作型)] MIKAN,MOMO,SOMETIMES PETA (ToLOVEる) [星华私立高等部汉化] 34 34 https://telegra.ph/C79-40010壱号-40010試作型-MIKANMOMOSOMETIMES-PETA-ToLOVEる-星华私立高等部汉化-04-09-5\n",
      "(C80) [40010壱号 (40010試作型)] GOOD-BYE, SEISHUNPOINTS (電波女と青春男) 33 33 https://telegra.ph/C80-40010壱号-40010試作型-GOOD-BYE-SEISHUNPOINTS-電波女と青春男-04-09-4\n",
      "(C81) [40010壱号 (40010試作型)] Mikan s delusion, and usual days (ToLOVEる) [渣渣汉化组] 33 33 https://telegra.ph/C81-40010壱号-40010試作型-Mikan-s-delusion-and-usual-days-ToLOVEる-渣渣汉化组-04-09-2\n",
      "(C82) [40010壱号 (40010試作型)] Wonderland／Ununderland (咲 -Saki-) [空気系★汉化] 32 32 https://telegra.ph/C82-40010壱号-40010試作型-WonderlandUnunderland-咲--Saki--空気系汉化-04-09-2\n",
      "(C83) [40010壱号 (40010試作型)] Vanished Panties (ToLOVEる-とらぶる-) [脸肿汉化组] 26 26 https://telegra.ph/C83-40010壱号-40010試作型-Vanished-Panties-ToLOVEる-とらぶる--脸肿汉化组-04-09-2\n",
      "(C84) [40010壱号 (40010試作型)] The GreatRito (ToLOVEる-とらぶる-) [空気系☆漢化] 25 25 https://telegra.ph/C84-40010壱号-40010試作型-The-GreatRito-ToLOVEる-とらぶる--空気系漢化-04-09-3\n",
      "(C85) [40010壱号 (40010試作型)] Eat the Orange in the Bath (ToLOVEる-とらぶる-) [空気系☆漢化] 25 25 https://telegra.ph/C85-40010壱号-40010試作型-Eat-the-Orange-in-the-Bath-ToLOVEる-とらぶる--空気系漢化-04-09-3\n",
      "(C85) [40010壱号 (40010試作型)] Eat the Orange in the Bath (ToLOVEる-とらぶる-) [脸肿汉化组] 26 26 https://telegra.ph/C85-40010壱号-40010試作型-Eat-the-Orange-in-the-Bath-ToLOVEる-とらぶる--脸肿汉化组-04-09-3\n",
      "(C86) [40010壱号 (40010試作型)] Hitasura Summer (ToLOVEる-とらぶる-) [脸肿x空气系] 24 24 https://telegra.ph/C86-40010壱号-40010試作型-Hitasura-Summer-ToLOVEる-とらぶる--脸肿x空气系-04-09-3\n",
      "(C86) [40010壱号 (40010試作型)] O.I.I.H.2014S. (よろず) 8 8 https://telegra.ph/C86-40010壱号-40010試作型-OIIH2014S-よろず-04-09-3\n",
      "(C87) [40010壱号 (40010試作型)] Akochan Watching Club  (咲 -Saki-) [脸肿汉化组] 32 32 https://telegra.ph/C87-40010壱号-40010試作型-Akochan-Watching-Club-咲--Saki--脸肿汉化组-04-09-3\n",
      "(C87) [40010壱号 (40010試作型)] Akochan Watching Club (咲 -Saki-) [脸肿汉化组] 32 32 https://telegra.ph/C87-40010壱号-40010試作型-Akochan-Watching-Club-咲--Saki--脸肿汉化组-04-09-4\n",
      "(C88) [40010 1-GO (40010Prototype)] Closest Sister (To LOVE-Ru) [Chinese] [脸肿汉化组] 33 33 https://telegra.ph/C88-40010-1-GO-40010Prototype-Closest-Sister-To-LOVE-Ru-Chinese-脸肿汉化组-04-09-3\n",
      "(C88) [40010壱号 (40010試作型)] O.I.I.H.2015S. (よろず) 8 8 https://telegra.ph/C88-40010壱号-40010試作型-OIIH2015S-よろず-04-09-3\n",
      "(C89) [40010 1-GO (40010Prototype)] O.I.I.H.2015W. (Various) [Chinese] 9 9 https://telegra.ph/C89-40010-1-GO-40010Prototype-OIIH2015W-Various-Chinese-04-09-3\n",
      "(C89) [40010壱号] トモダチノエッチナキョウダイカンケイ (ToLOVEる-とらぶる-)[脸肿汉化组] 32 32 https://telegra.ph/C89-40010壱号-トモダチノエッチナキョウダイカンケイ-ToLOVEる-とらぶる-脸肿汉化组-04-09-2\n",
      "(COMIC Kairakuten 2011-09)  [40010 1-GO (40010Prototype)] densetsu wo tsugu mono (chinese) 9 9 https://telegra.ph/COMIC-Kairakuten-2011-09-40010-1-GO-40010Prototype-densetsu-wo-tsugu-mono-chinese-04-09-3\n",
      "[40010試作型] ヨヨギマドモアゼル (COMIC 快楽天 2012年7月号) [中国翻訳] 21 21 https://telegra.ph/40010試作型-ヨヨギマドモアゼル-COMIC-快楽天-2012年7月号-中国翻訳-04-09-2\n",
      "(COMIC Kairakuten 2012-09)  [40010 1-GO (40010Prototype)] In & Go 8 8 https://telegra.ph/COMIC-Kairakuten-2012-09-40010-1-GO-40010Prototype-In--Go-04-09-3\n",
      "(COMIC Kairakuten 2012-12)  [40010 1-GO (40010Prototype)] 10 10 https://telegra.ph/COMIC-Kairakuten-2012-12-40010-1-GO-40010Prototype-04-09-3\n",
      "(COMIC Kairakuten 2013-06)  [40010試作型] Secret Brown 【脸肿汉化组】 19 19 https://telegra.ph/COMIC-Kairakuten-2013-06-40010試作型-Secret-Brown-脸肿汉化组-04-09-3\n",
      "新建文件夹 17 17 https://telegra.ph/新建文件夹-04-09-2\n",
      "(COMIC Kairakuten 2014-09)  [Shimanto Shisakugata] Jikan wo tomeruttsu! 16 16 https://telegra.ph/COMIC-Kairakuten-2014-09-Shimanto-Shisakugata-Jikan-wo-tomeruttsu-04-09-3\n",
      "[Shimanto Shisakugata] 誘蛾灯 (COMIC快楽天 2015年12月号) [中國翻譯] [無邪気漢化組] [無修正] 20 20 https://telegra.ph/Shimanto-Shisakugata-誘蛾灯-COMIC快楽天-2015年12月号-中國翻譯-無邪気漢化組-無修正-04-09-2\n",
      "(COMIC LO 2014-01)  [40010試作型] 姉弟っていいな [Chinese] [2DJ汉化组] 29 29 https://telegra.ph/COMIC-LO-2014-01-40010試作型-姉弟っていいな-Chinese-2DJ汉化组-04-09-2\n",
      "[40010試作型] 父娘っていいな [无毒X樱丘] 25 25 https://telegra.ph/40010試作型-父娘っていいな-无毒X樱丘-04-09-2\n",
      "(COMIC1☆3) [40010 1-GO (40010Prototype)] Mikan no Pantsu ha Sakurairo (ToLOVE-ru) 18 18 https://telegra.ph/COMIC13-40010-1-GO-40010Prototype-Mikan-no-Pantsu-ha-Sakurairo-ToLOVE-ru-04-09-3\n",
      "(COMIC1☆4) [40010壱号 (40010試作型)] ANOOSK (化物語) [中国翻訳] 21 21 https://telegra.ph/COMIC14-40010壱号-40010試作型-ANOOSK-化物語-中国翻訳-04-09-2\n",
      "(COMIC1☆5) [40010壱号] O.I.I.H.08W-10W 42 42 https://telegra.ph/COMIC15-40010壱号-OIIH08W-10W-04-09-3\n",
      "(COMIC1☆6) [40010 1-GO (40010Prototype)] SAKKN (Bakemonogatari) [Chinese] [空気系★汉化] 31 31 https://telegra.ph/COMIC16-40010-1-GO-40010Prototype-SAKKN-Bakemonogatari-Chinese-空気系汉化-04-09-2\n",
      "(COMIC1☆6) [40010壱号 (40010試作型)] SAKKN (化物語) 30 30 https://telegra.ph/COMIC16-40010壱号-40010試作型-SAKKN-化物語-04-09-3\n",
      "(COMIC1☆7) [40010壱号 (40010試作型)] NEMESIS-NAMESIS (ToLOVEる-とらぶる-) [空気系☆漢化] 27 27 https://telegra.ph/COMIC17-40010壱号-40010試作型-NEMESIS-NAMESIS-ToLOVEる-とらぶる--空気系漢化-04-09-2\n",
      "(COMIC1☆8) [40010壱号 (40010試作型)] MAGICAL☆IV (To LOVEる -とらぶる-) [空気系☆漢化] [Chinese] 23 23 https://telegra.ph/COMIC18-40010壱号-40010試作型-MAGICALIV-To-LOVEる--とらぶる--空気系漢化-Chinese-04-09-3\n",
      "(COMIC1☆9) [40010壱号 (40010試作型)] Musashino Mousou Nikki (SHIROBAKO) [中国翻訳] [屏幕髒了漢化組] 22 22 https://telegra.ph/COMIC19-40010壱号-40010試作型-Musashino-Mousou-Nikki-SHIROBAKO-中国翻訳-屏幕髒了漢化組-04-09-2\n",
      "[40010試作型] プロトタイプロリータ [中国翻訳] [DL版] 186 186 https://telegra.ph/40010試作型-プロトタイプロリータ-中国翻訳-DL版-04-09-4\n",
      "[Shimanto Shisakugata] Prototype Mademoiselle _ 試作型千金小姐 [Chinese] [d_art中文版] [digital] 215 215 https://telegra.ph/Shimanto-Shisakugata-Prototype-Mademoiselle-試作型千金小姐-Chinese-d-art中文版-digital-04-09-4\n",
      "好看！[40010試作型] くちなわのリング (COMIC 快楽天 2022年2月号) [中国翻訳] [DL版] [蝦米核桃漢化組] 52 52 https://telegra.ph/好看40010試作型-くちなわのリング-COMIC-快楽天-2022年2月号-中国翻訳-DL版-蝦米核桃漢化組-04-09-5\n"
     ]
    }
   ],
   "source": [
    "upload_all(\"D://本子//40010_pre\",tlg_obj)"
   ]
  },
  {
   "cell_type": "code",
   "execution_count": 48,
   "id": "e60cbe4f",
   "metadata": {},
   "outputs": [
    {
     "name": "stdout",
     "output_type": "stream",
     "text": [
      "(41, 2)\n",
      "(82, 2)\n"
     ]
    }
   ],
   "source": [
    "if os.path.exists(\"result.xlsx\"):\n",
    "    df = pd.read_excel(\"result.xlsx\")\n",
    "    print(df.shape)\n",
    "    df = pd.concat([df,pd.DataFrame(link_list,columns=[\"name\",\"url\"])])\n",
    "    print(df.shape)\n",
    "    df.to_excel(\"result.xlsx\",index = None)\n",
    "else:\n",
    "    df = pd.DataFrame(link_list,columns=[\"name\",\"url\"])\n",
    "    df.to_excel(\"result.xlsx\",index = None)"
   ]
  },
  {
   "cell_type": "code",
   "execution_count": null,
   "id": "055fd591",
   "metadata": {},
   "outputs": [],
   "source": []
  }
 ],
 "metadata": {
  "kernelspec": {
   "display_name": "Python 3 (ipykernel)",
   "language": "python",
   "name": "python3"
  },
  "language_info": {
   "codemirror_mode": {
    "name": "ipython",
    "version": 3
   },
   "file_extension": ".py",
   "mimetype": "text/x-python",
   "name": "python",
   "nbconvert_exporter": "python",
   "pygments_lexer": "ipython3",
   "version": "3.9.13"
  }
 },
 "nbformat": 4,
 "nbformat_minor": 5
}
