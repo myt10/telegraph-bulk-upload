{
 "cells": [
  {
   "cell_type": "code",
   "execution_count": null,
   "id": "d0f5c724",
   "metadata": {},
   "outputs": [],
   "source": [
    "import utils\n",
    "import os\n",
    "from telegraph import Telegraph\n",
    "import telegraph\n",
    "import json\n"
   ]
  },
  {
   "cell_type": "markdown",
   "id": "373bd77c",
   "metadata": {},
   "source": [
    "## 初始化编辑用户"
   ]
  },
  {
   "cell_type": "code",
   "execution_count": null,
   "id": "355b8912",
   "metadata": {
    "scrolled": true
   },
   "outputs": [],
   "source": [
    "tlg_obj = utils.__init__account(short_name= 'myt10', author_name= 'myt10', author_url= 'https://github.com/myt10')"
   ]
  },
  {
   "cell_type": "markdown",
   "id": "cd03b15a",
   "metadata": {},
   "source": [
    "## 上传文件至telegraph图床"
   ]
  },
  {
   "cell_type": "code",
   "execution_count": null,
   "id": "0081338b",
   "metadata": {},
   "outputs": [],
   "source": [
    "len(pic_list)"
   ]
  },
  {
   "cell_type": "code",
   "execution_count": null,
   "id": "05b58c47",
   "metadata": {
    "scrolled": true
   },
   "outputs": [],
   "source": [
    "pic_list = os.listdir(\"D://本子//40010_pre//[40010試作型] プロトタイプロリータ [中国翻訳] [DL版]\")\n",
    "for i in range(len(pic_list)):\n",
    "    pic_list[i] = \"D://本子//40010_pre//[40010試作型] プロトタイプロリータ [中国翻訳] [DL版]\"+\"//\"+pic_list[i]\n",
    "#print(pic_list)\n",
    "if len(pic_list)>40:  #一次上传过多会报错，所以分割一下\n",
    "    res = tlg_obj.upload_file(pic_list[:40])\n",
    "    for i in range(1,len(pic_list)//40 +1):\n",
    "        res += tlg_obj.upload_file(pic_list[i*40:min((i+1)*40,len(pic_list))])\n",
    "res = [i[\"src\"] for i in res]\n",
    "res"
   ]
  },
  {
   "cell_type": "code",
   "execution_count": null,
   "id": "4ca57ff7",
   "metadata": {},
   "outputs": [],
   "source": [
    "def get_content(img_url): #获取文章内容\n",
    "    content = ''\n",
    "    for url in img_url:\n",
    "        content += f'<img src=\"{url}\">\\n'\n",
    "    return content"
   ]
  },
  {
   "cell_type": "markdown",
   "id": "85b1a1e9",
   "metadata": {},
   "source": [
    "## 转化为html格式"
   ]
  },
  {
   "cell_type": "code",
   "execution_count": null,
   "id": "46763e8b",
   "metadata": {
    "scrolled": true
   },
   "outputs": [],
   "source": [
    "get_content(res)"
   ]
  },
  {
   "cell_type": "markdown",
   "id": "9755a7eb",
   "metadata": {},
   "source": [
    "## 生成可读page"
   ]
  },
  {
   "cell_type": "code",
   "execution_count": null,
   "id": "6083ab3e",
   "metadata": {},
   "outputs": [],
   "source": [
    "tlg_obj.create_page(title = \"[40010試作型] プロトタイプロリータ [中国翻訳] [DL版]\",html_content= utils.get_content(res),author_name=\"myt10\",author_url=\"https://github.com//myt10\",return_content= False)"
   ]
  },
  {
   "cell_type": "markdown",
   "id": "a406bda8",
   "metadata": {},
   "source": [
    "## 结果中的url即为生成的可供浏览的page"
   ]
  }
 ],
 "metadata": {
  "kernelspec": {
   "display_name": "Python 3 (ipykernel)",
   "language": "python",
   "name": "python3"
  },
  "language_info": {
   "codemirror_mode": {
    "name": "ipython",
    "version": 3
   },
   "file_extension": ".py",
   "mimetype": "text/x-python",
   "name": "python",
   "nbconvert_exporter": "python",
   "pygments_lexer": "ipython3",
   "version": "3.9.13"
  }
 },
 "nbformat": 4,
 "nbformat_minor": 5
}
